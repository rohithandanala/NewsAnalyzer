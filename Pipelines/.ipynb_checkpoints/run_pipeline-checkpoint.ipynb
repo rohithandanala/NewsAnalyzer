{
 "cells": [
  {
   "cell_type": "code",
   "execution_count": 11,
   "id": "bd00a7e8-a244-4a18-a943-295b6cc1b05d",
   "metadata": {},
   "outputs": [
    {
     "name": "stdout",
     "output_type": "stream",
     "text": [
      "Now in: C:\\Users\\rohit\\OneDrive\\Desktop\\Projects_main\\News\n"
     ]
    }
   ],
   "source": [
    "import os\n",
    "import sys\n",
    "\n",
    "# Go one step up from the current working directory\n",
    "parent_path = os.path.abspath(os.path.join(os.getcwd(), '..'))\n",
    "os.chdir(parent_path)  # Change working directory\n",
    "sys.path.append(parent_path)  # Add to Python path if needed\n",
    "\n",
    "print(\"Now in:\", os.getcwd())"
   ]
  },
  {
   "cell_type": "code",
   "execution_count": 12,
   "id": "2ac5d4bf-512e-489a-9242-5fcb17d54b5a",
   "metadata": {},
   "outputs": [],
   "source": [
    "import yaml\n",
    "from src.data import load_data, process_training_data\n",
    "from src.utils import clean_text, text_length, remove_outranged_length_articles, remove_duplicates, save_model, save_data\n",
    "from src.models import LogisticRegression\n",
    "from src import model_prediction\n",
    "import pandas as pd\n",
    "import os"
   ]
  },
  {
   "cell_type": "code",
   "execution_count": 13,
   "id": "791361d9-3833-477d-a2cd-497e1d675607",
   "metadata": {
    "scrolled": true
   },
   "outputs": [],
   "source": [
    "with open('Configs/configs.yaml','r') as f:\n",
    "    data_configs = yaml.safe_load(f)\n"
   ]
  },
  {
   "cell_type": "code",
   "execution_count": 14,
   "id": "f7206340-f580-4e7f-9575-05b9692ee5f7",
   "metadata": {},
   "outputs": [
    {
     "name": "stdout",
     "output_type": "stream",
     "text": [
      "Loading data from Data/True.csv\n",
      "Loading data from Data/Fake.csv\n"
     ]
    }
   ],
   "source": [
    "true_data = load_data.fetch_data(data_configs['true_data'])\n",
    "fake_data = load_data.fetch_data(data_configs['fake_data'])"
   ]
  },
  {
   "cell_type": "code",
   "execution_count": 15,
   "id": "a835c442-fcb2-4d46-8ad8-06eefa48b8bb",
   "metadata": {},
   "outputs": [],
   "source": [
    "# Creating Class Column [1=True & 0=False]\n",
    "true_data['class']=1\n",
    "fake_data['class']=0"
   ]
  },
  {
   "cell_type": "code",
   "execution_count": 16,
   "id": "9e2791bd-f7bb-469f-be22-9800977522f8",
   "metadata": {},
   "outputs": [],
   "source": [
    "# Concatenating both datasets\n",
    "df = pd.concat([fake_data,true_data], axis=0)"
   ]
  },
  {
   "cell_type": "code",
   "execution_count": 17,
   "id": "22ea6b18-6976-4707-ab19-f20fcba259ef",
   "metadata": {},
   "outputs": [
    {
     "data": {
      "text/html": [
       "<div>\n",
       "<style scoped>\n",
       "    .dataframe tbody tr th:only-of-type {\n",
       "        vertical-align: middle;\n",
       "    }\n",
       "\n",
       "    .dataframe tbody tr th {\n",
       "        vertical-align: top;\n",
       "    }\n",
       "\n",
       "    .dataframe thead th {\n",
       "        text-align: right;\n",
       "    }\n",
       "</style>\n",
       "<table border=\"1\" class=\"dataframe\">\n",
       "  <thead>\n",
       "    <tr style=\"text-align: right;\">\n",
       "      <th></th>\n",
       "      <th>title</th>\n",
       "      <th>text</th>\n",
       "      <th>subject</th>\n",
       "      <th>date</th>\n",
       "      <th>class</th>\n",
       "    </tr>\n",
       "  </thead>\n",
       "  <tbody>\n",
       "    <tr>\n",
       "      <th>0</th>\n",
       "      <td>Donald Trump Sends Out Embarrassing New Year’...</td>\n",
       "      <td>Donald Trump just couldn t wish all Americans ...</td>\n",
       "      <td>News</td>\n",
       "      <td>December 31, 2017</td>\n",
       "      <td>0</td>\n",
       "    </tr>\n",
       "    <tr>\n",
       "      <th>1</th>\n",
       "      <td>Drunk Bragging Trump Staffer Started Russian ...</td>\n",
       "      <td>House Intelligence Committee Chairman Devin Nu...</td>\n",
       "      <td>News</td>\n",
       "      <td>December 31, 2017</td>\n",
       "      <td>0</td>\n",
       "    </tr>\n",
       "    <tr>\n",
       "      <th>2</th>\n",
       "      <td>Sheriff David Clarke Becomes An Internet Joke...</td>\n",
       "      <td>On Friday, it was revealed that former Milwauk...</td>\n",
       "      <td>News</td>\n",
       "      <td>December 30, 2017</td>\n",
       "      <td>0</td>\n",
       "    </tr>\n",
       "    <tr>\n",
       "      <th>3</th>\n",
       "      <td>Trump Is So Obsessed He Even Has Obama’s Name...</td>\n",
       "      <td>On Christmas day, Donald Trump announced that ...</td>\n",
       "      <td>News</td>\n",
       "      <td>December 29, 2017</td>\n",
       "      <td>0</td>\n",
       "    </tr>\n",
       "    <tr>\n",
       "      <th>4</th>\n",
       "      <td>Pope Francis Just Called Out Donald Trump Dur...</td>\n",
       "      <td>Pope Francis used his annual Christmas Day mes...</td>\n",
       "      <td>News</td>\n",
       "      <td>December 25, 2017</td>\n",
       "      <td>0</td>\n",
       "    </tr>\n",
       "  </tbody>\n",
       "</table>\n",
       "</div>"
      ],
      "text/plain": [
       "                                               title  \\\n",
       "0   Donald Trump Sends Out Embarrassing New Year’...   \n",
       "1   Drunk Bragging Trump Staffer Started Russian ...   \n",
       "2   Sheriff David Clarke Becomes An Internet Joke...   \n",
       "3   Trump Is So Obsessed He Even Has Obama’s Name...   \n",
       "4   Pope Francis Just Called Out Donald Trump Dur...   \n",
       "\n",
       "                                                text subject  \\\n",
       "0  Donald Trump just couldn t wish all Americans ...    News   \n",
       "1  House Intelligence Committee Chairman Devin Nu...    News   \n",
       "2  On Friday, it was revealed that former Milwauk...    News   \n",
       "3  On Christmas day, Donald Trump announced that ...    News   \n",
       "4  Pope Francis used his annual Christmas Day mes...    News   \n",
       "\n",
       "                date  class  \n",
       "0  December 31, 2017      0  \n",
       "1  December 31, 2017      0  \n",
       "2  December 30, 2017      0  \n",
       "3  December 29, 2017      0  \n",
       "4  December 25, 2017      0  "
      ]
     },
     "execution_count": 17,
     "metadata": {},
     "output_type": "execute_result"
    }
   ],
   "source": [
    "df.head()"
   ]
  },
  {
   "cell_type": "code",
   "execution_count": 18,
   "id": "317f5620-c296-4a8a-9f9a-570ec2c5c78a",
   "metadata": {},
   "outputs": [
    {
     "name": "stdout",
     "output_type": "stream",
     "text": [
      "Cleaning data\n"
     ]
    }
   ],
   "source": [
    "# Dropping unnecessary columns\n",
    "df = df.drop([\"title\", \"subject\", \"date\"], axis=1)\n",
    "\n",
    "# Applying the function to text column\n",
    "print('Cleaning data')\n",
    "df[\"text\"] = df[\"text\"].apply(clean_text.clean_text)"
   ]
  },
  {
   "cell_type": "code",
   "execution_count": 19,
   "id": "eae774e8-27a6-485a-8632-60d3e3634ee9",
   "metadata": {},
   "outputs": [
    {
     "name": "stdout",
     "output_type": "stream",
     "text": [
      "Getting word count of each article\n"
     ]
    },
    {
     "data": {
      "text/html": [
       "<div>\n",
       "<style scoped>\n",
       "    .dataframe tbody tr th:only-of-type {\n",
       "        vertical-align: middle;\n",
       "    }\n",
       "\n",
       "    .dataframe tbody tr th {\n",
       "        vertical-align: top;\n",
       "    }\n",
       "\n",
       "    .dataframe thead th {\n",
       "        text-align: right;\n",
       "    }\n",
       "</style>\n",
       "<table border=\"1\" class=\"dataframe\">\n",
       "  <thead>\n",
       "    <tr style=\"text-align: right;\">\n",
       "      <th></th>\n",
       "      <th>text</th>\n",
       "      <th>class</th>\n",
       "      <th>word_count</th>\n",
       "    </tr>\n",
       "  </thead>\n",
       "  <tbody>\n",
       "    <tr>\n",
       "      <th>0</th>\n",
       "      <td>donald trump just couldn t wish all americans ...</td>\n",
       "      <td>0</td>\n",
       "      <td>454</td>\n",
       "    </tr>\n",
       "    <tr>\n",
       "      <th>1</th>\n",
       "      <td>house intelligence committee chairman devin nu...</td>\n",
       "      <td>0</td>\n",
       "      <td>304</td>\n",
       "    </tr>\n",
       "    <tr>\n",
       "      <th>2</th>\n",
       "      <td>on friday it was revealed that former milwauke...</td>\n",
       "      <td>0</td>\n",
       "      <td>542</td>\n",
       "    </tr>\n",
       "    <tr>\n",
       "      <th>3</th>\n",
       "      <td>on christmas day donald trump announced that h...</td>\n",
       "      <td>0</td>\n",
       "      <td>411</td>\n",
       "    </tr>\n",
       "    <tr>\n",
       "      <th>4</th>\n",
       "      <td>pope francis used his annual christmas day mes...</td>\n",
       "      <td>0</td>\n",
       "      <td>420</td>\n",
       "    </tr>\n",
       "  </tbody>\n",
       "</table>\n",
       "</div>"
      ],
      "text/plain": [
       "                                                text  class  word_count\n",
       "0  donald trump just couldn t wish all americans ...      0         454\n",
       "1  house intelligence committee chairman devin nu...      0         304\n",
       "2  on friday it was revealed that former milwauke...      0         542\n",
       "3  on christmas day donald trump announced that h...      0         411\n",
       "4  pope francis used his annual christmas day mes...      0         420"
      ]
     },
     "execution_count": 19,
     "metadata": {},
     "output_type": "execute_result"
    }
   ],
   "source": [
    "#Getting length of news articles\n",
    "print('Getting word count of each article')\n",
    "df['word_count'] = df['text'].apply(text_length.get_text_length)\n",
    "df.head()"
   ]
  },
  {
   "cell_type": "code",
   "execution_count": 20,
   "id": "a98bb64e-9960-4ea7-bbe5-ac851bc9efdf",
   "metadata": {},
   "outputs": [
    {
     "name": "stdout",
     "output_type": "stream",
     "text": [
      "removing articles with outofrange length\n",
      "removed 1172 articles which are less than 20 words\n",
      "removed 45 articles which are greater than 4000 words\n"
     ]
    }
   ],
   "source": [
    "#removing articles by length\n",
    "print('removing articles with outofrange length')\n",
    "df = remove_outranged_length_articles.articles_by_length(df, data_configs['min_article_length'], data_configs['max_article_length'])"
   ]
  },
  {
   "cell_type": "code",
   "execution_count": 21,
   "id": "fcfe252d-e3fd-4354-a560-271a63c9df38",
   "metadata": {},
   "outputs": [
    {
     "name": "stdout",
     "output_type": "stream",
     "text": [
      "removing duplicate articles\n",
      "Removed 5451 duplicate rows from data\n"
     ]
    }
   ],
   "source": [
    "#removing duplicate Data\n",
    "print('removing duplicate articles')\n",
    "df = remove_duplicates.remove_duplicate_data(df, 'text')"
   ]
  },
  {
   "cell_type": "code",
   "execution_count": 22,
   "id": "e68d79ed-cceb-40ec-bdeb-0a560dc4e076",
   "metadata": {},
   "outputs": [
    {
     "name": "stdout",
     "output_type": "stream",
     "text": [
      "preparing data for traning the model\n"
     ]
    }
   ],
   "source": [
    "#Preparing data for model training\n",
    "x_train, x_test, y_train, y_test = process_training_data.process_data(df)\n"
   ]
  },
  {
   "cell_type": "code",
   "execution_count": 23,
   "id": "539bfd8c-46c9-438c-886a-e89f80118e19",
   "metadata": {},
   "outputs": [
    {
     "name": "stdout",
     "output_type": "stream",
     "text": [
      "Initializing model: LogisticRegression\n",
      "Training model\n"
     ]
    }
   ],
   "source": [
    "#training model\n",
    "model = LogisticRegression.lr(x_train, y_train)"
   ]
  },
  {
   "cell_type": "code",
   "execution_count": 24,
   "id": "ca7f7752-3353-41ce-abf3-acaf98ad381e",
   "metadata": {},
   "outputs": [],
   "source": [
    "#model prediction\n",
    "prediction = model_prediction.predict_model(model, x_test)"
   ]
  },
  {
   "cell_type": "code",
   "execution_count": 25,
   "id": "f0138312-ecb4-41d7-aa1d-f9267cad2013",
   "metadata": {},
   "outputs": [
    {
     "data": {
      "text/plain": [
       "0.985090243264452"
      ]
     },
     "execution_count": 25,
     "metadata": {},
     "output_type": "execute_result"
    }
   ],
   "source": [
    "#Calculating model accuracy\n",
    "model.score(x_test, y_test)"
   ]
  },
  {
   "cell_type": "code",
   "execution_count": null,
   "id": "4b00d5b4-1313-42d9-864b-572c90c2ce37",
   "metadata": {},
   "outputs": [],
   "source": []
  }
 ],
 "metadata": {
  "kernelspec": {
   "display_name": "gpuEnv",
   "language": "python",
   "name": "gpuenv"
  },
  "language_info": {
   "codemirror_mode": {
    "name": "ipython",
    "version": 3
   },
   "file_extension": ".py",
   "mimetype": "text/x-python",
   "name": "python",
   "nbconvert_exporter": "python",
   "pygments_lexer": "ipython3",
   "version": "3.9.19"
  }
 },
 "nbformat": 4,
 "nbformat_minor": 5
}
